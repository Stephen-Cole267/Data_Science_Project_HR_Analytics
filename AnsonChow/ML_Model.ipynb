{
 "cells": [
  {
   "cell_type": "code",
   "execution_count": 1,
   "metadata": {},
   "outputs": [],
   "source": [
    "# Import Library\n",
    "import pandas as pd\n",
    "import numpy as np"
   ]
  },
  {
   "attachments": {},
   "cell_type": "markdown",
   "metadata": {},
   "source": [
    "# Dataset loading"
   ]
  },
  {
   "cell_type": "code",
   "execution_count": 2,
   "metadata": {},
   "outputs": [],
   "source": [
    "# Load Data\n",
    "emp_survey = pd.read_csv('employee_survey_data.csv')\n",
    "gen_data = pd.read_csv('general_data.csv')\n",
    "man_survey = pd.read_csv('manager_survey_data.csv')"
   ]
  },
  {
   "cell_type": "code",
   "execution_count": 3,
   "metadata": {},
   "outputs": [
    {
     "data": {
      "text/plain": [
       "((4410, 4), (4410, 24), (4410, 3))"
      ]
     },
     "execution_count": 3,
     "metadata": {},
     "output_type": "execute_result"
    }
   ],
   "source": [
    "emp_survey.shape, gen_data.shape, man_survey.shape"
   ]
  },
  {
   "attachments": {},
   "cell_type": "markdown",
   "metadata": {},
   "source": [
    "# Dataset concatenation (emp_survey, gen_data, man_survey)"
   ]
  },
  {
   "cell_type": "code",
   "execution_count": 4,
   "metadata": {},
   "outputs": [],
   "source": [
    "surv_list = [gen_data, man_survey]\n",
    "df = pd.DataFrame(emp_survey)\n",
    "for i in surv_list:\n",
    "    df = df.merge(i, how='left', on=['EmployeeID', 'EmployeeID']) "
   ]
  },
  {
   "cell_type": "code",
   "execution_count": 5,
   "metadata": {},
   "outputs": [
    {
     "data": {
      "text/plain": [
       "((4410, 29),\n",
       " Index(['EmployeeID', 'EnvironmentSatisfaction', 'JobSatisfaction',\n",
       "        'WorkLifeBalance', 'Age', 'Attrition', 'BusinessTravel', 'Department',\n",
       "        'DistanceFromHome', 'Education', 'EducationField', 'EmployeeCount',\n",
       "        'Gender', 'JobLevel', 'JobRole', 'MaritalStatus', 'MonthlyIncome',\n",
       "        'NumCompaniesWorked', 'Over18', 'PercentSalaryHike', 'StandardHours',\n",
       "        'StockOptionLevel', 'TotalWorkingYears', 'TrainingTimesLastYear',\n",
       "        'YearsAtCompany', 'YearsSinceLastPromotion', 'YearsWithCurrManager',\n",
       "        'JobInvolvement', 'PerformanceRating'],\n",
       "       dtype='object'))"
      ]
     },
     "execution_count": 5,
     "metadata": {},
     "output_type": "execute_result"
    }
   ],
   "source": [
    "df.shape, df.columns"
   ]
  },
  {
   "attachments": {},
   "cell_type": "markdown",
   "metadata": {},
   "source": [
    "# EDA"
   ]
  },
  {
   "cell_type": "code",
   "execution_count": 6,
   "metadata": {},
   "outputs": [
    {
     "data": {
      "text/plain": [
       "WorkLifeBalance            38\n",
       "EnvironmentSatisfaction    25\n",
       "JobSatisfaction            20\n",
       "NumCompaniesWorked         19\n",
       "TotalWorkingYears           9\n",
       "EmployeeID                  0\n",
       "MonthlyIncome               0\n",
       "JobInvolvement              0\n",
       "YearsWithCurrManager        0\n",
       "YearsSinceLastPromotion     0\n",
       "YearsAtCompany              0\n",
       "TrainingTimesLastYear       0\n",
       "StockOptionLevel            0\n",
       "StandardHours               0\n",
       "PercentSalaryHike           0\n",
       "Over18                      0\n",
       "JobRole                     0\n",
       "MaritalStatus               0\n",
       "JobLevel                    0\n",
       "Gender                      0\n",
       "EmployeeCount               0\n",
       "EducationField              0\n",
       "Education                   0\n",
       "DistanceFromHome            0\n",
       "Department                  0\n",
       "BusinessTravel              0\n",
       "Attrition                   0\n",
       "Age                         0\n",
       "PerformanceRating           0\n",
       "dtype: int64"
      ]
     },
     "execution_count": 6,
     "metadata": {},
     "output_type": "execute_result"
    }
   ],
   "source": [
    "# Detect Null Value\n",
    "df.isnull().sum().sort_values(ascending=False)"
   ]
  },
  {
   "cell_type": "code",
   "execution_count": 7,
   "metadata": {},
   "outputs": [
    {
     "data": {
      "text/plain": [
       "(dtype('float64'),\n",
       " dtype('float64'),\n",
       " dtype('float64'),\n",
       " dtype('float64'),\n",
       " dtype('float64'))"
      ]
     },
     "execution_count": 7,
     "metadata": {},
     "output_type": "execute_result"
    }
   ],
   "source": [
    "# Check the type of the columns that have null values\n",
    "df.WorkLifeBalance.dtype, df.EnvironmentSatisfaction.dtype, df.JobSatisfaction.dtype, df.NumCompaniesWorked.dtype, df.TotalWorkingYears.dtype"
   ]
  },
  {
   "cell_type": "code",
   "execution_count": 8,
   "metadata": {},
   "outputs": [
    {
     "name": "stdout",
     "output_type": "stream",
     "text": [
      "Numerical Columns: 21\n",
      "Categorical Columns: 8\n"
     ]
    }
   ],
   "source": [
    "print(f'Numerical Columns: {len(df.select_dtypes(include=[\"int64\", \"float64\"]).columns)}')\n",
    "print(f'Categorical Columns: {len(df.select_dtypes(include=[\"object\"]).columns)}')"
   ]
  },
  {
   "cell_type": "code",
   "execution_count": 9,
   "metadata": {},
   "outputs": [
    {
     "data": {
      "text/plain": [
       "['Age',\n",
       " 'DistanceFromHome',\n",
       " 'Education',\n",
       " 'EmployeeCount',\n",
       " 'EmployeeID',\n",
       " 'EnvironmentSatisfaction',\n",
       " 'JobInvolvement',\n",
       " 'JobLevel',\n",
       " 'JobSatisfaction',\n",
       " 'MonthlyIncome',\n",
       " 'NumCompaniesWorked',\n",
       " 'PercentSalaryHike',\n",
       " 'PerformanceRating',\n",
       " 'StandardHours',\n",
       " 'StockOptionLevel',\n",
       " 'TotalWorkingYears',\n",
       " 'TrainingTimesLastYear',\n",
       " 'WorkLifeBalance',\n",
       " 'YearsAtCompany',\n",
       " 'YearsSinceLastPromotion',\n",
       " 'YearsWithCurrManager']"
      ]
     },
     "execution_count": 9,
     "metadata": {},
     "output_type": "execute_result"
    }
   ],
   "source": [
    "# Define the Numerical Features\n",
    "feat_numerical = sorted(df.select_dtypes(include=[\"int64\", \"float64\"]).columns)\n",
    "feat_numerical"
   ]
  },
  {
   "cell_type": "code",
   "execution_count": 10,
   "metadata": {},
   "outputs": [
    {
     "data": {
      "text/plain": [
       "['Attrition',\n",
       " 'BusinessTravel',\n",
       " 'Department',\n",
       " 'EducationField',\n",
       " 'Gender',\n",
       " 'JobRole',\n",
       " 'MaritalStatus',\n",
       " 'Over18']"
      ]
     },
     "execution_count": 10,
     "metadata": {},
     "output_type": "execute_result"
    }
   ],
   "source": [
    "# Define the Categorical Features\n",
    "feat_ordinal = sorted(df.select_dtypes(include=[\"object\"]).columns)\n",
    "feat_ordinal"
   ]
  },
  {
   "cell_type": "code",
   "execution_count": 11,
   "metadata": {},
   "outputs": [
    {
     "data": {
      "text/plain": [
       "JobRole           9\n",
       "EducationField    6\n",
       "BusinessTravel    3\n",
       "Department        3\n",
       "MaritalStatus     3\n",
       "Attrition         2\n",
       "Gender            2\n",
       "Over18            1\n",
       "dtype: int64"
      ]
     },
     "execution_count": 11,
     "metadata": {},
     "output_type": "execute_result"
    }
   ],
   "source": [
    "# Find the cardinality of Categorical Features\n",
    "df.select_dtypes(include=[\"object\"]).nunique().sort_values(ascending=False)"
   ]
  },
  {
   "attachments": {},
   "cell_type": "markdown",
   "metadata": {},
   "source": [
    "# Data preprocessor pipeline\n",
    "\n",
    "1. Remove the column 'Over18'\n",
    "\n",
    "Because it provides constant value, which does not provide any discriminatory power and does not contribute to the variation in the data.\n",
    "\n",
    "2. Label the column 'Gender'\n",
    "\n",
    "3. Define the numerical columns and nominal columns\n",
    "('JobRole', 'EducationField','BusinessTravel', 'Department', 'MaritalStatus')\n",
    "\n",
    "4. Numerical Features\n",
    "- KNNImputer (For missing values)\n",
    "- MinMaxScaler (For normalization)\n",
    "\n",
    "5. Nominal/ Categorical Features\n",
    "- OneHotEncoder (To encode the categorical features to new columns)\n",
    "\n",
    "\n"
   ]
  },
  {
   "cell_type": "code",
   "execution_count": 12,
   "metadata": {},
   "outputs": [
    {
     "data": {
      "text/html": [
       "<style>#sk-container-id-1 {color: black;background-color: white;}#sk-container-id-1 pre{padding: 0;}#sk-container-id-1 div.sk-toggleable {background-color: white;}#sk-container-id-1 label.sk-toggleable__label {cursor: pointer;display: block;width: 100%;margin-bottom: 0;padding: 0.3em;box-sizing: border-box;text-align: center;}#sk-container-id-1 label.sk-toggleable__label-arrow:before {content: \"▸\";float: left;margin-right: 0.25em;color: #696969;}#sk-container-id-1 label.sk-toggleable__label-arrow:hover:before {color: black;}#sk-container-id-1 div.sk-estimator:hover label.sk-toggleable__label-arrow:before {color: black;}#sk-container-id-1 div.sk-toggleable__content {max-height: 0;max-width: 0;overflow: hidden;text-align: left;background-color: #f0f8ff;}#sk-container-id-1 div.sk-toggleable__content pre {margin: 0.2em;color: black;border-radius: 0.25em;background-color: #f0f8ff;}#sk-container-id-1 input.sk-toggleable__control:checked~div.sk-toggleable__content {max-height: 200px;max-width: 100%;overflow: auto;}#sk-container-id-1 input.sk-toggleable__control:checked~label.sk-toggleable__label-arrow:before {content: \"▾\";}#sk-container-id-1 div.sk-estimator input.sk-toggleable__control:checked~label.sk-toggleable__label {background-color: #d4ebff;}#sk-container-id-1 div.sk-label input.sk-toggleable__control:checked~label.sk-toggleable__label {background-color: #d4ebff;}#sk-container-id-1 input.sk-hidden--visually {border: 0;clip: rect(1px 1px 1px 1px);clip: rect(1px, 1px, 1px, 1px);height: 1px;margin: -1px;overflow: hidden;padding: 0;position: absolute;width: 1px;}#sk-container-id-1 div.sk-estimator {font-family: monospace;background-color: #f0f8ff;border: 1px dotted black;border-radius: 0.25em;box-sizing: border-box;margin-bottom: 0.5em;}#sk-container-id-1 div.sk-estimator:hover {background-color: #d4ebff;}#sk-container-id-1 div.sk-parallel-item::after {content: \"\";width: 100%;border-bottom: 1px solid gray;flex-grow: 1;}#sk-container-id-1 div.sk-label:hover label.sk-toggleable__label {background-color: #d4ebff;}#sk-container-id-1 div.sk-serial::before {content: \"\";position: absolute;border-left: 1px solid gray;box-sizing: border-box;top: 0;bottom: 0;left: 50%;z-index: 0;}#sk-container-id-1 div.sk-serial {display: flex;flex-direction: column;align-items: center;background-color: white;padding-right: 0.2em;padding-left: 0.2em;position: relative;}#sk-container-id-1 div.sk-item {position: relative;z-index: 1;}#sk-container-id-1 div.sk-parallel {display: flex;align-items: stretch;justify-content: center;background-color: white;position: relative;}#sk-container-id-1 div.sk-item::before, #sk-container-id-1 div.sk-parallel-item::before {content: \"\";position: absolute;border-left: 1px solid gray;box-sizing: border-box;top: 0;bottom: 0;left: 50%;z-index: -1;}#sk-container-id-1 div.sk-parallel-item {display: flex;flex-direction: column;z-index: 1;position: relative;background-color: white;}#sk-container-id-1 div.sk-parallel-item:first-child::after {align-self: flex-end;width: 50%;}#sk-container-id-1 div.sk-parallel-item:last-child::after {align-self: flex-start;width: 50%;}#sk-container-id-1 div.sk-parallel-item:only-child::after {width: 0;}#sk-container-id-1 div.sk-dashed-wrapped {border: 1px dashed gray;margin: 0 0.4em 0.5em 0.4em;box-sizing: border-box;padding-bottom: 0.4em;background-color: white;}#sk-container-id-1 div.sk-label label {font-family: monospace;font-weight: bold;display: inline-block;line-height: 1.2em;}#sk-container-id-1 div.sk-label-container {text-align: center;}#sk-container-id-1 div.sk-container {/* jupyter's `normalize.less` sets `[hidden] { display: none; }` but bootstrap.min.css set `[hidden] { display: none !important; }` so we also need the `!important` here to be able to override the default hidden behavior on the sphinx rendered scikit-learn.org. See: https://github.com/scikit-learn/scikit-learn/issues/21755 */display: inline-block !important;position: relative;}#sk-container-id-1 div.sk-text-repr-fallback {display: none;}</style><div id=\"sk-container-id-1\" class=\"sk-top-container\"><div class=\"sk-text-repr-fallback\"><pre>ColumnTransformer(transformers=[(&#x27;pipeline-1&#x27;,\n",
       "                                 Pipeline(steps=[(&#x27;knnimputer&#x27;, KNNImputer()),\n",
       "                                                 (&#x27;minmaxscaler&#x27;,\n",
       "                                                  MinMaxScaler())]),\n",
       "                                 Index([&#x27;EmployeeID&#x27;, &#x27;EnvironmentSatisfaction&#x27;, &#x27;JobSatisfaction&#x27;,\n",
       "       &#x27;WorkLifeBalance&#x27;, &#x27;Age&#x27;, &#x27;DistanceFromHome&#x27;, &#x27;Education&#x27;,\n",
       "       &#x27;EmployeeCount&#x27;, &#x27;JobLevel&#x27;, &#x27;MonthlyIncome&#x27;, &#x27;NumCompaniesWorked&#x27;,\n",
       "       &#x27;PercentSalaryHike&#x27;, &#x27;StandardHours&#x27;, &#x27;StockO...evel&#x27;,\n",
       "       &#x27;TotalWorkingYears&#x27;, &#x27;TrainingTimesLastYear&#x27;, &#x27;YearsAtCompany&#x27;,\n",
       "       &#x27;YearsSinceLastPromotion&#x27;, &#x27;YearsWithCurrManager&#x27;, &#x27;JobInvolvement&#x27;,\n",
       "       &#x27;PerformanceRating&#x27;],\n",
       "      dtype=&#x27;object&#x27;)),\n",
       "                                (&#x27;pipeline-2&#x27;,\n",
       "                                 Pipeline(steps=[(&#x27;onehotencoder&#x27;,\n",
       "                                                  OneHotEncoder(handle_unknown=&#x27;ignore&#x27;,\n",
       "                                                                sparse=False))]),\n",
       "                                 [&#x27;JobRole&#x27;, &#x27;EducationField&#x27;, &#x27;BusinessTravel&#x27;,\n",
       "                                  &#x27;Department&#x27;, &#x27;MaritalStatus&#x27;])])</pre><b>In a Jupyter environment, please rerun this cell to show the HTML representation or trust the notebook. <br />On GitHub, the HTML representation is unable to render, please try loading this page with nbviewer.org.</b></div><div class=\"sk-container\" hidden><div class=\"sk-item sk-dashed-wrapped\"><div class=\"sk-label-container\"><div class=\"sk-label sk-toggleable\"><input class=\"sk-toggleable__control sk-hidden--visually\" id=\"sk-estimator-id-1\" type=\"checkbox\" ><label for=\"sk-estimator-id-1\" class=\"sk-toggleable__label sk-toggleable__label-arrow\">ColumnTransformer</label><div class=\"sk-toggleable__content\"><pre>ColumnTransformer(transformers=[(&#x27;pipeline-1&#x27;,\n",
       "                                 Pipeline(steps=[(&#x27;knnimputer&#x27;, KNNImputer()),\n",
       "                                                 (&#x27;minmaxscaler&#x27;,\n",
       "                                                  MinMaxScaler())]),\n",
       "                                 Index([&#x27;EmployeeID&#x27;, &#x27;EnvironmentSatisfaction&#x27;, &#x27;JobSatisfaction&#x27;,\n",
       "       &#x27;WorkLifeBalance&#x27;, &#x27;Age&#x27;, &#x27;DistanceFromHome&#x27;, &#x27;Education&#x27;,\n",
       "       &#x27;EmployeeCount&#x27;, &#x27;JobLevel&#x27;, &#x27;MonthlyIncome&#x27;, &#x27;NumCompaniesWorked&#x27;,\n",
       "       &#x27;PercentSalaryHike&#x27;, &#x27;StandardHours&#x27;, &#x27;StockO...evel&#x27;,\n",
       "       &#x27;TotalWorkingYears&#x27;, &#x27;TrainingTimesLastYear&#x27;, &#x27;YearsAtCompany&#x27;,\n",
       "       &#x27;YearsSinceLastPromotion&#x27;, &#x27;YearsWithCurrManager&#x27;, &#x27;JobInvolvement&#x27;,\n",
       "       &#x27;PerformanceRating&#x27;],\n",
       "      dtype=&#x27;object&#x27;)),\n",
       "                                (&#x27;pipeline-2&#x27;,\n",
       "                                 Pipeline(steps=[(&#x27;onehotencoder&#x27;,\n",
       "                                                  OneHotEncoder(handle_unknown=&#x27;ignore&#x27;,\n",
       "                                                                sparse=False))]),\n",
       "                                 [&#x27;JobRole&#x27;, &#x27;EducationField&#x27;, &#x27;BusinessTravel&#x27;,\n",
       "                                  &#x27;Department&#x27;, &#x27;MaritalStatus&#x27;])])</pre></div></div></div><div class=\"sk-parallel\"><div class=\"sk-parallel-item\"><div class=\"sk-item\"><div class=\"sk-label-container\"><div class=\"sk-label sk-toggleable\"><input class=\"sk-toggleable__control sk-hidden--visually\" id=\"sk-estimator-id-2\" type=\"checkbox\" ><label for=\"sk-estimator-id-2\" class=\"sk-toggleable__label sk-toggleable__label-arrow\">pipeline-1</label><div class=\"sk-toggleable__content\"><pre>Index([&#x27;EmployeeID&#x27;, &#x27;EnvironmentSatisfaction&#x27;, &#x27;JobSatisfaction&#x27;,\n",
       "       &#x27;WorkLifeBalance&#x27;, &#x27;Age&#x27;, &#x27;DistanceFromHome&#x27;, &#x27;Education&#x27;,\n",
       "       &#x27;EmployeeCount&#x27;, &#x27;JobLevel&#x27;, &#x27;MonthlyIncome&#x27;, &#x27;NumCompaniesWorked&#x27;,\n",
       "       &#x27;PercentSalaryHike&#x27;, &#x27;StandardHours&#x27;, &#x27;StockOptionLevel&#x27;,\n",
       "       &#x27;TotalWorkingYears&#x27;, &#x27;TrainingTimesLastYear&#x27;, &#x27;YearsAtCompany&#x27;,\n",
       "       &#x27;YearsSinceLastPromotion&#x27;, &#x27;YearsWithCurrManager&#x27;, &#x27;JobInvolvement&#x27;,\n",
       "       &#x27;PerformanceRating&#x27;],\n",
       "      dtype=&#x27;object&#x27;)</pre></div></div></div><div class=\"sk-serial\"><div class=\"sk-item\"><div class=\"sk-serial\"><div class=\"sk-item\"><div class=\"sk-estimator sk-toggleable\"><input class=\"sk-toggleable__control sk-hidden--visually\" id=\"sk-estimator-id-3\" type=\"checkbox\" ><label for=\"sk-estimator-id-3\" class=\"sk-toggleable__label sk-toggleable__label-arrow\">KNNImputer</label><div class=\"sk-toggleable__content\"><pre>KNNImputer()</pre></div></div></div><div class=\"sk-item\"><div class=\"sk-estimator sk-toggleable\"><input class=\"sk-toggleable__control sk-hidden--visually\" id=\"sk-estimator-id-4\" type=\"checkbox\" ><label for=\"sk-estimator-id-4\" class=\"sk-toggleable__label sk-toggleable__label-arrow\">MinMaxScaler</label><div class=\"sk-toggleable__content\"><pre>MinMaxScaler()</pre></div></div></div></div></div></div></div></div><div class=\"sk-parallel-item\"><div class=\"sk-item\"><div class=\"sk-label-container\"><div class=\"sk-label sk-toggleable\"><input class=\"sk-toggleable__control sk-hidden--visually\" id=\"sk-estimator-id-5\" type=\"checkbox\" ><label for=\"sk-estimator-id-5\" class=\"sk-toggleable__label sk-toggleable__label-arrow\">pipeline-2</label><div class=\"sk-toggleable__content\"><pre>[&#x27;JobRole&#x27;, &#x27;EducationField&#x27;, &#x27;BusinessTravel&#x27;, &#x27;Department&#x27;, &#x27;MaritalStatus&#x27;]</pre></div></div></div><div class=\"sk-serial\"><div class=\"sk-item\"><div class=\"sk-serial\"><div class=\"sk-item\"><div class=\"sk-estimator sk-toggleable\"><input class=\"sk-toggleable__control sk-hidden--visually\" id=\"sk-estimator-id-6\" type=\"checkbox\" ><label for=\"sk-estimator-id-6\" class=\"sk-toggleable__label sk-toggleable__label-arrow\">OneHotEncoder</label><div class=\"sk-toggleable__content\"><pre>OneHotEncoder(handle_unknown=&#x27;ignore&#x27;, sparse=False)</pre></div></div></div></div></div></div></div></div></div></div></div></div>"
      ],
      "text/plain": [
       "ColumnTransformer(transformers=[('pipeline-1',\n",
       "                                 Pipeline(steps=[('knnimputer', KNNImputer()),\n",
       "                                                 ('minmaxscaler',\n",
       "                                                  MinMaxScaler())]),\n",
       "                                 Index(['EmployeeID', 'EnvironmentSatisfaction', 'JobSatisfaction',\n",
       "       'WorkLifeBalance', 'Age', 'DistanceFromHome', 'Education',\n",
       "       'EmployeeCount', 'JobLevel', 'MonthlyIncome', 'NumCompaniesWorked',\n",
       "       'PercentSalaryHike', 'StandardHours', 'StockO...evel',\n",
       "       'TotalWorkingYears', 'TrainingTimesLastYear', 'YearsAtCompany',\n",
       "       'YearsSinceLastPromotion', 'YearsWithCurrManager', 'JobInvolvement',\n",
       "       'PerformanceRating'],\n",
       "      dtype='object')),\n",
       "                                ('pipeline-2',\n",
       "                                 Pipeline(steps=[('onehotencoder',\n",
       "                                                  OneHotEncoder(handle_unknown='ignore',\n",
       "                                                                sparse=False))]),\n",
       "                                 ['JobRole', 'EducationField', 'BusinessTravel',\n",
       "                                  'Department', 'MaritalStatus'])])"
      ]
     },
     "execution_count": 12,
     "metadata": {},
     "output_type": "execute_result"
    }
   ],
   "source": [
    "from sklearn.compose import make_column_transformer\n",
    "from sklearn.preprocessing import OneHotEncoder, LabelEncoder, MinMaxScaler\n",
    "from sklearn.impute import KNNImputer\n",
    "from sklearn.pipeline import make_pipeline\n",
    "\n",
    "# Drop the 'Over18' column\n",
    "df.drop('Over18', axis=1, inplace=True)\n",
    "\n",
    "# Encode the target variable 'Attrition' using LabelEncoder\n",
    "target_encoder = LabelEncoder()\n",
    "df['Attrition'] = target_encoder.fit_transform(df['Attrition'])\n",
    "\n",
    "# Encode the 'Gender' column using LabelEncoder\n",
    "df['Gender'] = LabelEncoder().fit_transform(df['Gender'])\n",
    "\n",
    "# Separate numerical,and nominal columns\n",
    "feat_numerical = df.select_dtypes(include=[\"int64\", \"float64\"]).columns\n",
    "feat_nominal = ['JobRole', 'EducationField','BusinessTravel', 'Department', 'MaritalStatus']\n",
    "\n",
    "# Create a pipeline for numerical columns\n",
    "numerical_pipeline = make_pipeline(\n",
    "    KNNImputer(),\n",
    "    MinMaxScaler()\n",
    ")\n",
    "\n",
    "# Create a pipeline for nominal columns (one-hot encoding)\n",
    "nominal_pipeline = make_pipeline(\n",
    "    OneHotEncoder(sparse=False, handle_unknown='ignore')\n",
    ")\n",
    "\n",
    "# Create a column transformer for preprocessing\n",
    "preprocessor = make_column_transformer(\n",
    "    (numerical_pipeline, feat_numerical),\n",
    "    (nominal_pipeline, feat_nominal),\n",
    "    remainder='drop'\n",
    ")\n",
    "preprocessor"
   ]
  },
  {
   "attachments": {},
   "cell_type": "markdown",
   "metadata": {},
   "source": [
    "# Model Evaluation - Logistic Regression"
   ]
  },
  {
   "cell_type": "code",
   "execution_count": 13,
   "metadata": {},
   "outputs": [
    {
     "name": "stdout",
     "output_type": "stream",
     "text": [
      "Confusion Matrix:\n",
      " [[1083   25]\n",
      " [ 180   35]]\n",
      "Accuracy: 0.8450491307634165\n",
      "Precision: 0.5833333333333334\n",
      "Recall: 0.16279069767441862\n",
      "F1 Score: 0.2545454545454546\n",
      "Classification Report:\n",
      "               precision    recall  f1-score   support\n",
      "\n",
      "           0       0.86      0.98      0.91      1108\n",
      "           1       0.58      0.16      0.25       215\n",
      "\n",
      "    accuracy                           0.85      1323\n",
      "   macro avg       0.72      0.57      0.58      1323\n",
      "weighted avg       0.81      0.85      0.81      1323\n",
      "\n"
     ]
    },
    {
     "name": "stderr",
     "output_type": "stream",
     "text": [
      "c:\\Users\\HonFaiChow\\AppData\\Local\\Programs\\Python\\Python311\\Lib\\site-packages\\sklearn\\preprocessing\\_encoders.py:868: FutureWarning: `sparse` was renamed to `sparse_output` in version 1.2 and will be removed in 1.4. `sparse_output` is ignored unless you leave `sparse` to its default value.\n",
      "  warnings.warn(\n"
     ]
    }
   ],
   "source": [
    "from sklearn.model_selection import train_test_split\n",
    "from sklearn.linear_model import LogisticRegression\n",
    "from sklearn.metrics import classification_report, confusion_matrix, accuracy_score, precision_score, recall_score, f1_score\n",
    "\n",
    "# Split the data into train and validation sets\n",
    "X_train, X_validation, y_train, y_validation = train_test_split(df.drop(columns=['Attrition']), df.Attrition, test_size=0.3)\n",
    "\n",
    "# Fit and transform the preprocessor on the training data\n",
    "preproc_Xtrain = preprocessor.fit_transform(X_train)\n",
    "preproc_Xvalidation = preprocessor.transform(X_validation)\n",
    "\n",
    "# Create and train a logistic regression model\n",
    "logreg = LogisticRegression()\n",
    "logreg.fit(preproc_Xtrain, y_train)\n",
    "\n",
    "# Predict on the validation data\n",
    "y_pred = logreg.predict(preproc_Xvalidation)\n",
    "\n",
    "# Calculate evaluation metrics\n",
    "confusion_mat = confusion_matrix(y_validation, y_pred)\n",
    "accuracy = accuracy_score(y_validation, y_pred)\n",
    "precision = precision_score(y_validation, y_pred)\n",
    "recall = recall_score(y_validation, y_pred)\n",
    "f1 = f1_score(y_validation, y_pred)\n",
    "report = classification_report(y_validation, y_pred)\n",
    "\n",
    "# Print the evaluation metrics\n",
    "print(\"Confusion Matrix:\\n\", confusion_mat)\n",
    "print(\"Accuracy:\", accuracy)\n",
    "print(\"Precision:\", precision)\n",
    "print(\"Recall:\", recall)\n",
    "print(\"F1 Score:\", f1)\n",
    "print('Classification Report:\\n', report)\n"
   ]
  },
  {
   "attachments": {},
   "cell_type": "markdown",
   "metadata": {},
   "source": [
    "# Model Evaluation for more models\n",
    "- Logistic Regression\n",
    "- DecisionTree Classifier\n",
    "- RandomForestClassifier\n",
    "- XGB Classifier\n",
    "- LGBM Classifier"
   ]
  },
  {
   "cell_type": "code",
   "execution_count": 17,
   "metadata": {},
   "outputs": [
    {
     "name": "stdout",
     "output_type": "stream",
     "text": [
      "LogisticRegression\n",
      "Confusion Matrix:\n",
      " [[1083   25]\n",
      " [ 180   35]]\n",
      "Accuracy: 0.8450491307634165\n",
      "Precision: 0.5833333333333334\n",
      "Recall: 0.16279069767441862\n",
      "F1-Score: 0.2545454545454546\n",
      "Classification Report:\n",
      "               precision    recall  f1-score   support\n",
      "\n",
      "           0       0.86      0.98      0.91      1108\n",
      "           1       0.58      0.16      0.25       215\n",
      "\n",
      "    accuracy                           0.85      1323\n",
      "   macro avg       0.72      0.57      0.58      1323\n",
      "weighted avg       0.81      0.85      0.81      1323\n",
      "\n",
      "----------------------------------------\n",
      "DecisionTreeClassifier\n",
      "Confusion Matrix:\n",
      " [[1082   26]\n",
      " [  25  190]]\n",
      "Accuracy: 0.9614512471655329\n",
      "Precision: 0.8796296296296297\n",
      "Recall: 0.8837209302325582\n",
      "F1-Score: 0.8816705336426915\n",
      "Classification Report:\n",
      "               precision    recall  f1-score   support\n",
      "\n",
      "           0       0.98      0.98      0.98      1108\n",
      "           1       0.88      0.88      0.88       215\n",
      "\n",
      "    accuracy                           0.96      1323\n",
      "   macro avg       0.93      0.93      0.93      1323\n",
      "weighted avg       0.96      0.96      0.96      1323\n",
      "\n",
      "----------------------------------------\n",
      "RandomForestClassifier\n",
      "Confusion Matrix:\n",
      " [[1106    2]\n",
      " [  29  186]]\n",
      "Accuracy: 0.9765684051398337\n",
      "Precision: 0.9893617021276596\n",
      "Recall: 0.8651162790697674\n",
      "F1-Score: 0.923076923076923\n",
      "Classification Report:\n",
      "               precision    recall  f1-score   support\n",
      "\n",
      "           0       0.97      1.00      0.99      1108\n",
      "           1       0.99      0.87      0.92       215\n",
      "\n",
      "    accuracy                           0.98      1323\n",
      "   macro avg       0.98      0.93      0.95      1323\n",
      "weighted avg       0.98      0.98      0.98      1323\n",
      "\n",
      "----------------------------------------\n",
      "XGBClassifier\n",
      "Confusion Matrix:\n",
      " [[1105    3]\n",
      " [  21  194]]\n",
      "Accuracy: 0.981859410430839\n",
      "Precision: 0.9847715736040609\n",
      "Recall: 0.9023255813953488\n",
      "F1-Score: 0.941747572815534\n",
      "Classification Report:\n",
      "               precision    recall  f1-score   support\n",
      "\n",
      "           0       0.98      1.00      0.99      1108\n",
      "           1       0.98      0.90      0.94       215\n",
      "\n",
      "    accuracy                           0.98      1323\n",
      "   macro avg       0.98      0.95      0.97      1323\n",
      "weighted avg       0.98      0.98      0.98      1323\n",
      "\n",
      "----------------------------------------\n",
      "LGBMClassifier\n",
      "Confusion Matrix:\n",
      " [[1102    6]\n",
      " [  24  191]]\n",
      "Accuracy: 0.9773242630385488\n",
      "Precision: 0.9695431472081218\n",
      "Recall: 0.8883720930232558\n",
      "F1-Score: 0.9271844660194175\n",
      "Classification Report:\n",
      "               precision    recall  f1-score   support\n",
      "\n",
      "           0       0.98      0.99      0.99      1108\n",
      "           1       0.97      0.89      0.93       215\n",
      "\n",
      "    accuracy                           0.98      1323\n",
      "   macro avg       0.97      0.94      0.96      1323\n",
      "weighted avg       0.98      0.98      0.98      1323\n",
      "\n",
      "----------------------------------------\n"
     ]
    }
   ],
   "source": [
    "from sklearn.linear_model import LogisticRegression\n",
    "from sklearn.tree import DecisionTreeClassifier\n",
    "from sklearn.ensemble import RandomForestClassifier\n",
    "import xgboost as xgb\n",
    "import lightgbm as lgb\n",
    "\n",
    "# Create a list of classification models\n",
    "models = [\n",
    "    LogisticRegression(),\n",
    "    DecisionTreeClassifier(),\n",
    "    RandomForestClassifier(),\n",
    "    xgb.XGBClassifier(),\n",
    "    lgb.LGBMClassifier()\n",
    "]\n",
    "\n",
    "# Define a list to store the performance metrics for each model\n",
    "results = []\n",
    "\n",
    "# Iterate through the models\n",
    "for model in models:\n",
    "    # Fit the model on the preprocessed training data\n",
    "    model.fit(preproc_Xtrain, y_train)\n",
    "    \n",
    "    # Predict the target variable on the preprocessed validation data\n",
    "    y_pred = model.predict(preproc_Xvalidation)\n",
    "    \n",
    "    # Calculate the evaluation metrics\n",
    "    accuracy = accuracy_score(y_validation, y_pred)\n",
    "    precision = precision_score(y_validation, y_pred)\n",
    "    recall = recall_score(y_validation, y_pred)\n",
    "    f1 = f1_score(y_validation, y_pred)\n",
    "    \n",
    "    # Generate the classification report\n",
    "    report = classification_report(y_validation, y_pred)\n",
    "    \n",
    "    # Generate the confusion matrix\n",
    "    matrix = confusion_matrix(y_validation, y_pred)\n",
    "    \n",
    "    # Store the results in a dictionary\n",
    "    model_results = {\n",
    "        'Model': model.__class__.__name__,\n",
    "        'Accuracy': accuracy,\n",
    "        'Precision': precision,\n",
    "        'Recall': recall,\n",
    "        'F1-Score': f1,\n",
    "        'Classification Report': report,\n",
    "        'Confusion Matrix': matrix\n",
    "    }\n",
    "    \n",
    "    # Append the results to the list\n",
    "    results.append(model_results)\n",
    "\n",
    "# Display the results\n",
    "for result in results:\n",
    "    print(result['Model'])\n",
    "    print('Confusion Matrix:\\n', result['Confusion Matrix'])\n",
    "    print('Accuracy:', result['Accuracy'])\n",
    "    print('Precision:', result['Precision'])\n",
    "    print('Recall:', result['Recall'])\n",
    "    print('F1-Score:', result['F1-Score'])\n",
    "    print('Classification Report:\\n', result['Classification Report'])\n",
    "    print('-' * 40)"
   ]
  },
  {
   "attachments": {},
   "cell_type": "markdown",
   "metadata": {},
   "source": [
    "# Summary\n",
    "## DecisionTreeClassifier\n",
    "Confusion Matrix:\n",
    "\n",
    " [[1078   24]\\\n",
    " [  16  205]]\n",
    "\n",
    "Accuracy: 0.9697656840513983\n",
    "\n",
    "Precision: 0.8951965065502183\n",
    "\n",
    "Recall: 0.9276018099547512\n",
    "\n",
    "F1-Score: 0.9111111111111111\n",
    "\n",
    "Classification Report:\n",
    "               precision    recall  f1-score   support\n",
    "\n",
    "           0       0.99      0.98      0.98      1102\n",
    "           1       0.90      0.93      0.91       221\n",
    "\n",
    "    accuracy                           0.97      1323\n",
    "\n",
    "----------------------------------------\n",
    "## RandomForestClassifier\n",
    "Confusion Matrix:\n",
    "\n",
    " [[1102    0]\n",
    "\n",
    " [  19  202]]\n",
    "\n",
    "Accuracy: 0.9856386999244142\n",
    "\n",
    "Precision: 1.0\n",
    "\n",
    "Recall: 0.9140271493212669\n",
    "\n",
    "F1-Score: 0.9550827423167849\n",
    "\n",
    "Classification Report:\n",
    "               precision    recall  f1-score   support\n",
    "\n",
    "           0       0.98      1.00      0.99      1102\n",
    "           1       1.00      0.91      0.96       221\n",
    "\n",
    "    accuracy                           0.99      1323\n",
    "\n",
    "----------------------------------------\n",
    "## XGBClassifier\n",
    "Confusion Matrix:\n",
    "\n",
    " [[1092   10]\n",
    "\n",
    " [  10  211]]\n",
    "\n",
    "Accuracy: 0.9848828420256992\n",
    "\n",
    "Precision: 0.9547511312217195\n",
    "\n",
    "Recall: 0.9547511312217195\n",
    "\n",
    "F1-Score: 0.9547511312217195\n",
    "\n",
    "Classification Report:\n",
    "               precision    recall  f1-score   support\n",
    "\n",
    "           0       0.99      0.99      0.99      1102\n",
    "           1       0.95      0.95      0.95       221\n",
    "\n",
    "    accuracy                           0.98      1323\n",
    "\n",
    "----------------------------------------\n",
    "## LGBMClassifier\n",
    "Confusion Matrix:\n",
    "\n",
    " [[1096    6]\n",
    "\n",
    " [  16  205]]\n",
    "\n",
    "Accuracy: 0.983371126228269\n",
    "\n",
    "Precision: 0.9715639810426541\n",
    "\n",
    "Recall: 0.9276018099547512\n",
    "\n",
    "F1-Score: 0.9490740740740741\n",
    "\n",
    "Classification Report:\n",
    "               precision    recall  f1-score   support\n",
    "\n",
    "           0       0.99      0.99      0.99      1102\n",
    "           1       0.97      0.93      0.95       221\n",
    "\n",
    "    accuracy                           0.98      1323\n"
   ]
  }
 ],
 "metadata": {
  "kernelspec": {
   "display_name": "Python 3",
   "language": "python",
   "name": "python3"
  },
  "language_info": {
   "codemirror_mode": {
    "name": "ipython",
    "version": 3
   },
   "file_extension": ".py",
   "mimetype": "text/x-python",
   "name": "python",
   "nbconvert_exporter": "python",
   "pygments_lexer": "ipython3",
   "version": "3.11.3"
  },
  "orig_nbformat": 4
 },
 "nbformat": 4,
 "nbformat_minor": 2
}
