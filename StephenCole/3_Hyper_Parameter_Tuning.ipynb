{
 "cells": [
  {
   "cell_type": "markdown",
   "id": "716bc005",
   "metadata": {},
   "source": [
    "# HR Analytics - Hyper Parameter Tuning (HPT)\n",
    "\n",
    "Objective: Create a logistic Reg Model to predict the attrition of employees by using the features available from the datasets given\n",
    "\n",
    "Created By: Stephen Cole\n",
    "Creation Date: 19/07/2022"
   ]
  },
  {
   "cell_type": "markdown",
   "id": "8627238b",
   "metadata": {},
   "source": [
    "##### Last Updated"
   ]
  },
  {
   "cell_type": "code",
   "execution_count": 1,
   "id": "fb5ed28f",
   "metadata": {},
   "outputs": [
    {
     "name": "stdout",
     "output_type": "stream",
     "text": [
      "Last Updated By: Stephen Cole\n",
      "Last Updated: 12/08/2022 17:38:13\n"
     ]
    }
   ],
   "source": [
    "from datetime import datetime, timedelta\n",
    "\n",
    "input(\"Last Updated By: \")\n",
    "print(f\"Last Updated: {datetime.now().strftime('%d/%m/%Y %H:%M:%S')}\")"
   ]
  },
  {
   "cell_type": "markdown",
   "id": "d28469e5",
   "metadata": {},
   "source": [
    "### Import Packages"
   ]
  },
  {
   "cell_type": "code",
   "execution_count": 7,
   "id": "3858eb09",
   "metadata": {},
   "outputs": [],
   "source": [
    "# Importing all packages in one cell helps to keep the notebook clean and readable as having multiple imports scattered makes\n",
    "# it hard to keep track of all the packages being used\n",
    "\n",
    "from numpy import mean, std\n",
    "import pandas as pd\n",
    "import itertools\n",
    "import seaborn as sns\n",
    "import numpy as np\n",
    "import time\n",
    "import math\n",
    "import tqdm\n",
    "import os\n",
    "import shap\n",
    "import pickle\n",
    "\n",
    "\n",
    "from datetime import timedelta, datetime\n",
    "from scipy import interp\n",
    "from itertools import cycle\n",
    "\n",
    "from sklearn.feature_selection import RFECV\n",
    "from sklearn.model_selection import KFold ,StratifiedKFold\n",
    "from sklearn.linear_model import LogisticRegression\n",
    "from sklearn.metrics import mean_absolute_error\n",
    "from xgboost import XGBClassifier\n",
    "from xgboost import XGBRegressor\n",
    "from sklearn.model_selection import train_test_split\n",
    "from sklearn.ensemble import RandomForestClassifier, RandomForestRegressor, GradientBoostingClassifier, GradientBoostingRegressor\n",
    "from sklearn.model_selection import cross_val_score, GridSearchCV\n",
    "from sklearn.metrics import confusion_matrix\n",
    "from sklearn.metrics import accuracy_score\n",
    "from sklearn.model_selection import KFold \n",
    "from sklearn.metrics import mean_squared_error\n",
    "from sklearn.metrics import mean_squared_error as MSE\n",
    "from sklearn.base import clone\n",
    "from sklearn.metrics import auc, roc_auc_score, roc_curve, make_scorer, f1_score, recall_score, precision_score, fbeta_score, classification_report,average_precision_score\n",
    "from sklearn.pipeline import Pipeline\n",
    "from imblearn.over_sampling import SMOTE\n",
    "from sklearn.preprocessing import label_binarize,scale\n",
    "\n",
    "import xgboost as xgb\n",
    "\n",
    "import matplotlib.pyplot as plt\n",
    "%matplotlib inline\n",
    "\n",
    "import warnings\n",
    "warnings.filterwarnings('ignore')\n",
    "\n",
    "path_to_data = 'C:\\\\Users\\\\coles2\\\\Documents\\\\Xander\\\\Data_Science_Project_HR_Analytics-main\\\\Datasets'"
   ]
  },
  {
   "cell_type": "code",
   "execution_count": 8,
   "id": "c7304850",
   "metadata": {},
   "outputs": [],
   "source": [
    "pd.set_option(\"display.max_columns\", None, \"display.max_rows\", 500)"
   ]
  },
  {
   "cell_type": "markdown",
   "id": "004b1faf",
   "metadata": {},
   "source": [
    "### Define Custom Functions\n",
    "\n",
    "This is where I normally store any functions I use to keep notebooks clean"
   ]
  },
  {
   "cell_type": "code",
   "execution_count": 9,
   "id": "39ccde9b",
   "metadata": {},
   "outputs": [],
   "source": [
    "def save_obj(obj, name, file_path):\n",
    "    \"\"\"\n",
    "    This function saves any object as a .pkl file so that it can be easily read in other notebooks\n",
    "    \n",
    "    Parameters\n",
    "    -----\n",
    "    obj : Object's variable name \n",
    "        The object that needs to be saved.\n",
    "    name : String\n",
    "        The name that you would like to save the object as.\n",
    "    file_path: String\n",
    "        Directory in which you are saving the object to.\n",
    "    \n",
    "    Returns\n",
    "    -----\n",
    "        A saved .pkl file in dir and name specified.\n",
    "    \"\"\"\n",
    "    file_path = os.path.join(file_path, name)\n",
    "    with open(file_path + '.pkl', 'wb') as f:\n",
    "        pickle.dump(obj, f, pickle.HIGHEST_PROTOCOL)\n",
    "        \n",
    "def load_obj(name, file_path):\n",
    "    \"\"\"\n",
    "    This function loads any .pkl file\n",
    "    \n",
    "    Parameters\n",
    "    -----\n",
    "    name : String\n",
    "        The name of the file that needs to be loaded.\n",
    "    file_path: String\n",
    "        Directory in which you are loading the object from.\n",
    "    \n",
    "    Returns\n",
    "    -----\n",
    "        An object that was saved as a .pkl file in dir and name specified.\n",
    "    \"\"\"\n",
    "    file_path = os.path.join(file_path, name)\n",
    "    with open(file_path + '.pkl', 'rb') as f:\n",
    "        return pickle.load(f)\n",
    "\n",
    "def param_tuning(params_grid, dtrain, num_boost_round, nfold, stratified, metrics, early_stopping_rounds, seed):\n",
    "    \"\"\"\n",
    "    Function completes hyperparameter tuning\n",
    "    \n",
    "    Parameters\n",
    "    -----\n",
    "    params_grid : Dictionary\n",
    "        A grid which contains all the parameters needed for testing\n",
    "    dtrain : XGBoost DMatrix\n",
    "        A data structure the XGBoost developers created for memory efficiency and training speed\n",
    "        with their machine learning library\n",
    "    num_boost_round : Integer\n",
    "        Number of boosting iterations\n",
    "    nfold : Integer\n",
    "        Number of folds for cross validation\n",
    "    stratified : Boolean\n",
    "        Perform stratified sampling\n",
    "    metrics : Dictionary\n",
    "        Evaluation metrics to be watched in CV\n",
    "    early_stopping_rounds : Integer\n",
    "        Early_stopping_rounds round(s) to continue training (needs to be tested separately after tuning the model)\n",
    "    seed : Integer\n",
    "        Seed used to generate the folds\n",
    "    \n",
    "    Returns\n",
    "    -----\n",
    "    max_roc_auc : Float64\n",
    "        Max ROC AUC found for the model\n",
    "    best_params : Dictionary\n",
    "        The optimal dictionary of all specified parameters\n",
    "    \"\"\"\n",
    "    \n",
    "    start_time = time.time()\n",
    "    print('start_time', time.asctime( time.localtime(time.time()) ))\n",
    "    best_params = {}\n",
    "    max_roc_auc = 0\n",
    "    \n",
    "    for param in params_grid:\n",
    "        \n",
    "        cv_results = xgb.cv(\n",
    "            params=param,\n",
    "            dtrain = dtrain,\n",
    "            num_boost_round = num_boost_round,\n",
    "            nfold = nfold,\n",
    "            stratified = stratified,\n",
    "            metrics = metrics,\n",
    "            early_stopping_rounds = early_stopping_rounds,\n",
    "            seed = seed\n",
    "        )\n",
    "        \n",
    "        mean_roc_auc = cv_results['test-auc-mean'].max()\n",
    "        _\n",
    "        if mean_roc_auc > max_roc_auc:\n",
    "            max_roc_auc = mean_roc_auc\n",
    "            best_params = param\n",
    "    \n",
    "    end_time = time.time()\n",
    "    total_time = end_time - start_time\n",
    "    print('total time', str(timedelta(seconds=total_time)))\n",
    "    \n",
    "    return max_roc_auc, best_params "
   ]
  },
  {
   "cell_type": "markdown",
   "id": "91c4c130",
   "metadata": {},
   "source": [
    "### Load Objects"
   ]
  },
  {
   "cell_type": "code",
   "execution_count": 10,
   "id": "30f626bd",
   "metadata": {},
   "outputs": [
    {
     "name": "stdout",
     "output_type": "stream",
     "text": [
      "start_time Thu Aug 11 12:46:58 2022\n",
      "total_time to read data 0:00:00.008940\n"
     ]
    }
   ],
   "source": [
    "start_time = time.time()\n",
    "print('start_time', time.asctime( time.localtime(time.time()) ))\n",
    "\n",
    "X = load_obj('Modelling_dset', path_to_data)\n",
    "y = load_obj('Target', path_to_data)\n",
    "features = load_obj('features', path_to_data)\n",
    "\n",
    "end_time = time.time()\n",
    "total_time = end_time - start_time\n",
    "print('total_time to read data', str(timedelta(seconds=total_time)))"
   ]
  },
  {
   "cell_type": "code",
   "execution_count": 11,
   "id": "3a0f8140",
   "metadata": {},
   "outputs": [],
   "source": [
    "X = X[features]"
   ]
  },
  {
   "cell_type": "code",
   "execution_count": 12,
   "id": "f4faaa70",
   "metadata": {},
   "outputs": [
    {
     "data": {
      "text/plain": [
       "(4410, 27)"
      ]
     },
     "execution_count": 12,
     "metadata": {},
     "output_type": "execute_result"
    }
   ],
   "source": [
    "X.shape"
   ]
  },
  {
   "cell_type": "code",
   "execution_count": 13,
   "id": "656152ca",
   "metadata": {},
   "outputs": [
    {
     "name": "stdout",
     "output_type": "stream",
     "text": [
      "Features:\n",
      "['maritalstatus_Single', 'totalworkingyears', 'businesstravel_Travel_Frequently', 'environmentsatisfaction_Low', 'educationfield_Human Resources', 'yearswithcurrmanager', 'jobsatisfaction_Very High', 'environmentsatisfaction_Very High', 'yearssincelastpromotion', 'educationfield_Life Sciences', 'numcompaniesworked', 'gender_Female', 'jobsatisfaction_Low', 'worklifebalance_Good', 'jobrole_Research Director', 'department_Human Resources', 'education_Below College', 'worklifebalance_Bad', 'environmentsatisfaction_High', 'jobrole_Sales Representative', 'maritalstatus_Divorced', 'worklifebalance_Better', 'distancefromhome', 'trainingtimeslastyear', 'jobsatisfaction_High', 'education_College', 'education_Bachelor']\n",
      "Number of features:\n",
      "27\n"
     ]
    }
   ],
   "source": [
    "print('Features:', features, 'Number of features:', len(features), sep='\\n')"
   ]
  },
  {
   "cell_type": "markdown",
   "id": "63f569bd",
   "metadata": {},
   "source": [
    "## XGBoost - HPT"
   ]
  },
  {
   "cell_type": "markdown",
   "id": "626d752d",
   "metadata": {},
   "source": [
    "### Train-Test Split"
   ]
  },
  {
   "cell_type": "code",
   "execution_count": 14,
   "id": "ed1dab49",
   "metadata": {},
   "outputs": [],
   "source": [
    "# Split dataset into train and test datasets for modelling and evaluation\n",
    "# Set the random_state for the same split\n",
    "\n",
    "X_train, X_test, y_train, y_test = train_test_split(X, y, test_size=0.3, random_state=42, stratify=y)"
   ]
  },
  {
   "cell_type": "code",
   "execution_count": 15,
   "id": "5b771649",
   "metadata": {},
   "outputs": [],
   "source": [
    "# Use XGBoost DMatrix for memory efficiency and model training speed\n",
    "\n",
    "dmat_train = xgb.DMatrix(X_train, label=y_train)"
   ]
  },
  {
   "cell_type": "code",
   "execution_count": 24,
   "id": "8cfacba7",
   "metadata": {},
   "outputs": [],
   "source": [
    "# Define base parameters\n",
    "\n",
    "params = {\n",
    "    # Tree Parameters\n",
    "    'max_depth': 3,\n",
    "    'min_child_weight': 20,\n",
    "    'scale_pos_weight':1,\n",
    "    'max_delta_step': 2,\n",
    "    'subsample': 0.9,\n",
    "    'colsample_bytree': 0.9,\n",
    "    # Regularisation Parameters\n",
    "    'eta': 0.1,\n",
    "    'gamma': 0,\n",
    "    'alpha': 0,\n",
    "    'lambda': 1,\n",
    "    # Other Parameters\n",
    "    'verbosity': 0,\n",
    "    'nthread': os.cpu_count() - 1,\n",
    "    'eval_metrics': 'logloss',\n",
    "    'objective': 'binary:logistic',\n",
    "    'tree_method': 'hist'\n",
    "}"
   ]
  },
  {
   "cell_type": "code",
   "execution_count": 25,
   "id": "f6abbfc9",
   "metadata": {},
   "outputs": [],
   "source": [
    "# Iterate through first batch of tree parameters\n",
    "# Ideally use a full hyperspace grid however, it would result in too big of a gridsearch and only have 8 cores to use\n",
    "\n",
    "\n",
    "changed_params_grid = [{'max_depth': max_depth,\n",
    "                        'min_child_weight': min_child_weight,\n",
    "                        'scale_pos_weight': scale_pos_weight}\n",
    "                      for max_depth in [5, 10, 15]\n",
    "                      for min_child_weight in [1, 5, 10]\n",
    "                      for scale_pos_weight in [1,5,10,15,25,50,100]]"
   ]
  },
  {
   "cell_type": "code",
   "execution_count": 26,
   "id": "d5fc6f91",
   "metadata": {},
   "outputs": [],
   "source": [
    "# Create gridsearch to be used in param_tuning function\n",
    "\n",
    "gridsearch_params = []\n",
    "\n",
    "for i in changed_params_grid:\n",
    "    \n",
    "    initial_params = params.copy()\n",
    "    \n",
    "    for key, value in i.items():\n",
    "        initial_params[key] = value\n",
    "    \n",
    "    gridsearch_params.append(initial_params)"
   ]
  },
  {
   "cell_type": "code",
   "execution_count": 27,
   "id": "e3d04fac",
   "metadata": {},
   "outputs": [
    {
     "name": "stdout",
     "output_type": "stream",
     "text": [
      "start_time Mon Jul 25 14:20:04 2022\n",
      "total time 0:01:46.087529\n"
     ]
    }
   ],
   "source": [
    "max_roc_auc, best_params = param_tuning(params_grid=gridsearch_params, \n",
    "                                        dtrain=dmat_train, \n",
    "                                        num_boost_round=100, \n",
    "                                        nfold=5, \n",
    "                                        stratified=True,\n",
    "                                        metrics={'auc'}, \n",
    "                                        early_stopping_rounds=20, \n",
    "                                        seed=5)"
   ]
  },
  {
   "cell_type": "code",
   "execution_count": 28,
   "id": "bf870072",
   "metadata": {},
   "outputs": [],
   "source": [
    "# Overwrite base parameters with the optimal params\n",
    "\n",
    "params['max_depth'] = best_params['max_depth']\n",
    "params['min_child_weight'] = best_params['min_child_weight']\n",
    "params['scale_pos_weight'] = best_params['scale_pos_weight']"
   ]
  },
  {
   "cell_type": "code",
   "execution_count": 29,
   "id": "d9753844",
   "metadata": {},
   "outputs": [],
   "source": [
    "# Second batch of tree parameters\n",
    "\n",
    "changed_params_grid = [{'max_delta_step': 2,\n",
    "                        'subsample': 0.9,\n",
    "                        'colsample_bytree': 0.9,}\n",
    "                        for max_delta_step in [0, 2, 4, 6, 8, 10]\n",
    "                        for subsample in [0.5, 0.75, 1]\n",
    "                        for colsample_bytree in [0.5, 0.75, 1]]"
   ]
  },
  {
   "cell_type": "code",
   "execution_count": 30,
   "id": "6920a177",
   "metadata": {},
   "outputs": [],
   "source": [
    "gridsearch_params = []\n",
    "\n",
    "for i in changed_params_grid:\n",
    "    \n",
    "    initial_params = params.copy()\n",
    "    \n",
    "    for key, value in i.items():\n",
    "        initial_params[key] = value\n",
    "    \n",
    "    gridsearch_params.append(initial_params)"
   ]
  },
  {
   "cell_type": "code",
   "execution_count": 31,
   "id": "c531f0c4",
   "metadata": {},
   "outputs": [
    {
     "name": "stdout",
     "output_type": "stream",
     "text": [
      "start_time Mon Jul 25 14:21:50 2022\n",
      "total time 0:01:57.510550\n"
     ]
    }
   ],
   "source": [
    "max_roc_auc, best_params = param_tuning(params_grid=gridsearch_params, \n",
    "                                        dtrain=dmat_train, \n",
    "                                        num_boost_round=100, \n",
    "                                        nfold=5, \n",
    "                                        stratified=True,\n",
    "                                        metrics={'auc'}, \n",
    "                                        early_stopping_rounds=20, \n",
    "                                        seed=5)"
   ]
  },
  {
   "cell_type": "code",
   "execution_count": 32,
   "id": "04515ff8",
   "metadata": {},
   "outputs": [],
   "source": [
    "params['max_delta_step'] = best_params['max_delta_step']\n",
    "params['subsample'] = best_params['subsample']\n",
    "params['colsample_bytree'] = best_params['colsample_bytree']"
   ]
  },
  {
   "cell_type": "code",
   "execution_count": 33,
   "id": "14c21708",
   "metadata": {},
   "outputs": [],
   "source": [
    "# Regularisation Parameters\n",
    "\n",
    "changed_params_grid = [{'eta': eta,\n",
    "                        'gamma': gamma,\n",
    "                        'alpha': alpha,\n",
    "                        'lambda': lambd}\n",
    "                        for eta in [0.1,0.5,0.9]\n",
    "                        for gamma in [0,0.1,0.5,1,5,10]\n",
    "                        for alpha in [0,0.5,1]\n",
    "                        for lambd in [0.01, 0.1, 1, 1.5]]"
   ]
  },
  {
   "cell_type": "code",
   "execution_count": 34,
   "id": "61797603",
   "metadata": {},
   "outputs": [],
   "source": [
    "gridsearch_params = []\n",
    "\n",
    "for i in changed_params_grid:\n",
    "    \n",
    "    initial_params = params.copy()\n",
    "    \n",
    "    for key, value in i.items():\n",
    "        initial_params[key] = value\n",
    "    \n",
    "    gridsearch_params.append(initial_params)"
   ]
  },
  {
   "cell_type": "code",
   "execution_count": 35,
   "id": "86a2ed25",
   "metadata": {},
   "outputs": [
    {
     "name": "stdout",
     "output_type": "stream",
     "text": [
      "start_time Mon Jul 25 14:23:48 2022\n",
      "total time 0:04:58.057970\n"
     ]
    }
   ],
   "source": [
    "max_roc_auc, best_params = param_tuning(params_grid=gridsearch_params, \n",
    "                                        dtrain=dmat_train, \n",
    "                                        num_boost_round=100, \n",
    "                                        nfold=5, \n",
    "                                        stratified=True,\n",
    "                                        metrics={'auc'}, \n",
    "                                        early_stopping_rounds=20, \n",
    "                                        seed=5)"
   ]
  },
  {
   "cell_type": "code",
   "execution_count": 36,
   "id": "6a22535c",
   "metadata": {},
   "outputs": [],
   "source": [
    "params['eta'] = best_params['eta']\n",
    "params['gamma'] = best_params['gamma']\n",
    "params['alpha'] = best_params['alpha']\n",
    "params['lambda'] = best_params['lambda']"
   ]
  },
  {
   "cell_type": "code",
   "execution_count": 37,
   "id": "8da13ff2",
   "metadata": {},
   "outputs": [],
   "source": [
    "# Find best num_boost_round\n",
    "\n",
    "dtrain = xgb.DMatrix(X_train, label = y_train)\n",
    "dtest = xgb.DMatrix(X_test, label = y_test)\n",
    "evallist = [(dtrain, 'train'),(dtest, 'test')]"
   ]
  },
  {
   "cell_type": "code",
   "execution_count": 38,
   "id": "746cbd80",
   "metadata": {},
   "outputs": [
    {
     "name": "stdout",
     "output_type": "stream",
     "text": [
      "[0]\ttrain-logloss:0.42521\ttest-logloss:0.46867\n",
      "[1]\ttrain-logloss:0.28542\ttest-logloss:0.33712\n",
      "[2]\ttrain-logloss:0.20157\ttest-logloss:0.25499\n",
      "[3]\ttrain-logloss:0.14425\ttest-logloss:0.19978\n",
      "[4]\ttrain-logloss:0.11065\ttest-logloss:0.16852\n",
      "[5]\ttrain-logloss:0.08658\ttest-logloss:0.14475\n",
      "[6]\ttrain-logloss:0.06968\ttest-logloss:0.12581\n",
      "[7]\ttrain-logloss:0.05818\ttest-logloss:0.11681\n",
      "[8]\ttrain-logloss:0.04953\ttest-logloss:0.10922\n",
      "[9]\ttrain-logloss:0.04332\ttest-logloss:0.10488\n",
      "[10]\ttrain-logloss:0.03782\ttest-logloss:0.10130\n",
      "[11]\ttrain-logloss:0.03383\ttest-logloss:0.09679\n",
      "[12]\ttrain-logloss:0.03069\ttest-logloss:0.09559\n",
      "[13]\ttrain-logloss:0.02746\ttest-logloss:0.09415\n",
      "[14]\ttrain-logloss:0.02510\ttest-logloss:0.09202\n",
      "[15]\ttrain-logloss:0.02320\ttest-logloss:0.09160\n",
      "[16]\ttrain-logloss:0.02177\ttest-logloss:0.09119\n",
      "[17]\ttrain-logloss:0.01969\ttest-logloss:0.08808\n",
      "[18]\ttrain-logloss:0.01822\ttest-logloss:0.08775\n",
      "[19]\ttrain-logloss:0.01713\ttest-logloss:0.08591\n",
      "[20]\ttrain-logloss:0.01607\ttest-logloss:0.08497\n",
      "[21]\ttrain-logloss:0.01529\ttest-logloss:0.08457\n",
      "[22]\ttrain-logloss:0.01469\ttest-logloss:0.08417\n",
      "[23]\ttrain-logloss:0.01399\ttest-logloss:0.08429\n",
      "[24]\ttrain-logloss:0.01346\ttest-logloss:0.08459\n",
      "[25]\ttrain-logloss:0.01291\ttest-logloss:0.08438\n",
      "[26]\ttrain-logloss:0.01249\ttest-logloss:0.08551\n",
      "[27]\ttrain-logloss:0.01207\ttest-logloss:0.08641\n",
      "[28]\ttrain-logloss:0.01164\ttest-logloss:0.08603\n",
      "[29]\ttrain-logloss:0.01121\ttest-logloss:0.08590\n",
      "[30]\ttrain-logloss:0.01090\ttest-logloss:0.08637\n",
      "[31]\ttrain-logloss:0.01062\ttest-logloss:0.08681\n"
     ]
    }
   ],
   "source": [
    "model = xgb.train(params, dtrain = dtrain, num_boost_round=1000, evals=evallist, early_stopping_rounds = 10)"
   ]
  },
  {
   "cell_type": "code",
   "execution_count": 39,
   "id": "734b6d86",
   "metadata": {},
   "outputs": [
    {
     "name": "stdout",
     "output_type": "stream",
     "text": [
      "[0]\ttrain-logloss:0.42521\ttest-logloss:0.46867\n",
      "[1]\ttrain-logloss:0.28542\ttest-logloss:0.33712\n",
      "[2]\ttrain-logloss:0.20157\ttest-logloss:0.25499\n",
      "[3]\ttrain-logloss:0.14425\ttest-logloss:0.19978\n",
      "[4]\ttrain-logloss:0.11065\ttest-logloss:0.16852\n",
      "[5]\ttrain-logloss:0.08658\ttest-logloss:0.14475\n",
      "[6]\ttrain-logloss:0.06968\ttest-logloss:0.12581\n",
      "[7]\ttrain-logloss:0.05818\ttest-logloss:0.11681\n",
      "[8]\ttrain-logloss:0.04953\ttest-logloss:0.10922\n",
      "[9]\ttrain-logloss:0.04332\ttest-logloss:0.10488\n",
      "[10]\ttrain-logloss:0.03782\ttest-logloss:0.10130\n",
      "[11]\ttrain-logloss:0.03383\ttest-logloss:0.09679\n",
      "[12]\ttrain-logloss:0.03069\ttest-logloss:0.09559\n",
      "[13]\ttrain-logloss:0.02746\ttest-logloss:0.09415\n",
      "[14]\ttrain-logloss:0.02510\ttest-logloss:0.09202\n",
      "[15]\ttrain-logloss:0.02320\ttest-logloss:0.09160\n",
      "[16]\ttrain-logloss:0.02177\ttest-logloss:0.09119\n",
      "[17]\ttrain-logloss:0.01969\ttest-logloss:0.08808\n",
      "[18]\ttrain-logloss:0.01822\ttest-logloss:0.08775\n",
      "[19]\ttrain-logloss:0.01713\ttest-logloss:0.08591\n",
      "[20]\ttrain-logloss:0.01607\ttest-logloss:0.08497\n",
      "[21]\ttrain-logloss:0.01529\ttest-logloss:0.08457\n",
      "[22]\ttrain-logloss:0.01469\ttest-logloss:0.08417\n",
      "[23]\ttrain-logloss:0.01399\ttest-logloss:0.08429\n",
      "[24]\ttrain-logloss:0.01346\ttest-logloss:0.08459\n",
      "[25]\ttrain-logloss:0.01291\ttest-logloss:0.08438\n",
      "[26]\ttrain-logloss:0.01249\ttest-logloss:0.08551\n",
      "[27]\ttrain-logloss:0.01207\ttest-logloss:0.08641\n",
      "[28]\ttrain-logloss:0.01164\ttest-logloss:0.08603\n",
      "[29]\ttrain-logloss:0.01121\ttest-logloss:0.08590\n",
      "[30]\ttrain-logloss:0.01090\ttest-logloss:0.08637\n",
      "[31]\ttrain-logloss:0.01062\ttest-logloss:0.08681\n",
      "[32]\ttrain-logloss:0.01036\ttest-logloss:0.08648\n",
      "[33]\ttrain-logloss:0.01016\ttest-logloss:0.08687\n",
      "[34]\ttrain-logloss:0.00984\ttest-logloss:0.08588\n",
      "[35]\ttrain-logloss:0.00951\ttest-logloss:0.08548\n",
      "[36]\ttrain-logloss:0.00917\ttest-logloss:0.08509\n",
      "[37]\ttrain-logloss:0.00890\ttest-logloss:0.08566\n",
      "[38]\ttrain-logloss:0.00877\ttest-logloss:0.08646\n",
      "[39]\ttrain-logloss:0.00875\ttest-logloss:0.08736\n",
      "[40]\ttrain-logloss:0.00849\ttest-logloss:0.08710\n",
      "[41]\ttrain-logloss:0.00826\ttest-logloss:0.08680\n",
      "[42]\ttrain-logloss:0.00816\ttest-logloss:0.08649\n",
      "[43]\ttrain-logloss:0.00802\ttest-logloss:0.08681\n",
      "[44]\ttrain-logloss:0.00795\ttest-logloss:0.08763\n",
      "[45]\ttrain-logloss:0.00777\ttest-logloss:0.08844\n",
      "[46]\ttrain-logloss:0.00762\ttest-logloss:0.08895\n",
      "[47]\ttrain-logloss:0.00756\ttest-logloss:0.08865\n",
      "[48]\ttrain-logloss:0.00731\ttest-logloss:0.08828\n",
      "[49]\ttrain-logloss:0.00715\ttest-logloss:0.08778\n",
      "[50]\ttrain-logloss:0.00702\ttest-logloss:0.08866\n",
      "[51]\ttrain-logloss:0.00698\ttest-logloss:0.08924\n",
      "[52]\ttrain-logloss:0.00683\ttest-logloss:0.08937\n",
      "[53]\ttrain-logloss:0.00681\ttest-logloss:0.08942\n",
      "[54]\ttrain-logloss:0.00667\ttest-logloss:0.08959\n",
      "[55]\ttrain-logloss:0.00663\ttest-logloss:0.08962\n",
      "[56]\ttrain-logloss:0.00659\ttest-logloss:0.09027\n",
      "[57]\ttrain-logloss:0.00655\ttest-logloss:0.09063\n",
      "[58]\ttrain-logloss:0.00650\ttest-logloss:0.09130\n",
      "[59]\ttrain-logloss:0.00643\ttest-logloss:0.09120\n",
      "[60]\ttrain-logloss:0.00641\ttest-logloss:0.09119\n",
      "[61]\ttrain-logloss:0.00630\ttest-logloss:0.09120\n",
      "[62]\ttrain-logloss:0.00630\ttest-logloss:0.09183\n",
      "[63]\ttrain-logloss:0.00631\ttest-logloss:0.09170\n",
      "[64]\ttrain-logloss:0.00624\ttest-logloss:0.09213\n",
      "[65]\ttrain-logloss:0.00620\ttest-logloss:0.09243\n",
      "[66]\ttrain-logloss:0.00615\ttest-logloss:0.09252\n",
      "[67]\ttrain-logloss:0.00610\ttest-logloss:0.09220\n",
      "[68]\ttrain-logloss:0.00605\ttest-logloss:0.09297\n",
      "[69]\ttrain-logloss:0.00596\ttest-logloss:0.09305\n",
      "[70]\ttrain-logloss:0.00596\ttest-logloss:0.09269\n",
      "[71]\ttrain-logloss:0.00591\ttest-logloss:0.09273\n",
      "[72]\ttrain-logloss:0.00584\ttest-logloss:0.09256\n",
      "[73]\ttrain-logloss:0.00584\ttest-logloss:0.09263\n",
      "[74]\ttrain-logloss:0.00583\ttest-logloss:0.09254\n",
      "[75]\ttrain-logloss:0.00579\ttest-logloss:0.09252\n",
      "[76]\ttrain-logloss:0.00573\ttest-logloss:0.09230\n",
      "[77]\ttrain-logloss:0.00569\ttest-logloss:0.09188\n",
      "[78]\ttrain-logloss:0.00570\ttest-logloss:0.09188\n",
      "[79]\ttrain-logloss:0.00561\ttest-logloss:0.09153\n",
      "[80]\ttrain-logloss:0.00556\ttest-logloss:0.09151\n",
      "[81]\ttrain-logloss:0.00554\ttest-logloss:0.09202\n",
      "[82]\ttrain-logloss:0.00552\ttest-logloss:0.09227\n",
      "[83]\ttrain-logloss:0.00549\ttest-logloss:0.09254\n",
      "[84]\ttrain-logloss:0.00547\ttest-logloss:0.09237\n",
      "[85]\ttrain-logloss:0.00545\ttest-logloss:0.09267\n",
      "[86]\ttrain-logloss:0.00542\ttest-logloss:0.09288\n",
      "[87]\ttrain-logloss:0.00541\ttest-logloss:0.09301\n",
      "[88]\ttrain-logloss:0.00536\ttest-logloss:0.09291\n",
      "[89]\ttrain-logloss:0.00534\ttest-logloss:0.09270\n",
      "[90]\ttrain-logloss:0.00528\ttest-logloss:0.09295\n",
      "[91]\ttrain-logloss:0.00529\ttest-logloss:0.09295\n",
      "[92]\ttrain-logloss:0.00526\ttest-logloss:0.09308\n",
      "[93]\ttrain-logloss:0.00528\ttest-logloss:0.09291\n",
      "[94]\ttrain-logloss:0.00523\ttest-logloss:0.09301\n",
      "[95]\ttrain-logloss:0.00514\ttest-logloss:0.09314\n",
      "[96]\ttrain-logloss:0.00514\ttest-logloss:0.09285\n",
      "[97]\ttrain-logloss:0.00515\ttest-logloss:0.09265\n",
      "[98]\ttrain-logloss:0.00513\ttest-logloss:0.09265\n",
      "[99]\ttrain-logloss:0.00512\ttest-logloss:0.09265\n",
      "[100]\ttrain-logloss:0.00511\ttest-logloss:0.09288\n",
      "[101]\ttrain-logloss:0.00513\ttest-logloss:0.09286\n",
      "[102]\ttrain-logloss:0.00512\ttest-logloss:0.09286\n",
      "[103]\ttrain-logloss:0.00509\ttest-logloss:0.09333\n",
      "[104]\ttrain-logloss:0.00504\ttest-logloss:0.09355\n",
      "[105]\ttrain-logloss:0.00497\ttest-logloss:0.09356\n",
      "[106]\ttrain-logloss:0.00500\ttest-logloss:0.09355\n",
      "[107]\ttrain-logloss:0.00504\ttest-logloss:0.09355\n",
      "[108]\ttrain-logloss:0.00501\ttest-logloss:0.09355\n",
      "[109]\ttrain-logloss:0.00507\ttest-logloss:0.09355\n",
      "[110]\ttrain-logloss:0.00502\ttest-logloss:0.09348\n",
      "[111]\ttrain-logloss:0.00501\ttest-logloss:0.09351\n",
      "[112]\ttrain-logloss:0.00496\ttest-logloss:0.09289\n",
      "[113]\ttrain-logloss:0.00500\ttest-logloss:0.09288\n",
      "[114]\ttrain-logloss:0.00501\ttest-logloss:0.09296\n",
      "[115]\ttrain-logloss:0.00492\ttest-logloss:0.09300\n",
      "[116]\ttrain-logloss:0.00492\ttest-logloss:0.09301\n",
      "[117]\ttrain-logloss:0.00492\ttest-logloss:0.09296\n",
      "[118]\ttrain-logloss:0.00490\ttest-logloss:0.09296\n",
      "[119]\ttrain-logloss:0.00492\ttest-logloss:0.09296\n",
      "[120]\ttrain-logloss:0.00490\ttest-logloss:0.09293\n",
      "[121]\ttrain-logloss:0.00492\ttest-logloss:0.09350\n",
      "[122]\ttrain-logloss:0.00491\ttest-logloss:0.09351\n",
      "[123]\ttrain-logloss:0.00486\ttest-logloss:0.09351\n",
      "[124]\ttrain-logloss:0.00485\ttest-logloss:0.09351\n",
      "[125]\ttrain-logloss:0.00482\ttest-logloss:0.09352\n",
      "[126]\ttrain-logloss:0.00486\ttest-logloss:0.09327\n",
      "[127]\ttrain-logloss:0.00484\ttest-logloss:0.09333\n",
      "[128]\ttrain-logloss:0.00484\ttest-logloss:0.09388\n",
      "[129]\ttrain-logloss:0.00481\ttest-logloss:0.09389\n",
      "[130]\ttrain-logloss:0.00480\ttest-logloss:0.09389\n",
      "[131]\ttrain-logloss:0.00478\ttest-logloss:0.09389\n",
      "[132]\ttrain-logloss:0.00481\ttest-logloss:0.09389\n",
      "[133]\ttrain-logloss:0.00481\ttest-logloss:0.09389\n",
      "[134]\ttrain-logloss:0.00483\ttest-logloss:0.09388\n",
      "[135]\ttrain-logloss:0.00477\ttest-logloss:0.09400\n",
      "[136]\ttrain-logloss:0.00475\ttest-logloss:0.09401\n",
      "[137]\ttrain-logloss:0.00477\ttest-logloss:0.09400\n",
      "[138]\ttrain-logloss:0.00477\ttest-logloss:0.09378\n",
      "[139]\ttrain-logloss:0.00478\ttest-logloss:0.09378\n",
      "[140]\ttrain-logloss:0.00480\ttest-logloss:0.09377\n",
      "[141]\ttrain-logloss:0.00477\ttest-logloss:0.09378\n",
      "[142]\ttrain-logloss:0.00477\ttest-logloss:0.09436\n",
      "[143]\ttrain-logloss:0.00476\ttest-logloss:0.09444\n",
      "[144]\ttrain-logloss:0.00471\ttest-logloss:0.09489\n",
      "[145]\ttrain-logloss:0.00468\ttest-logloss:0.09491\n",
      "[146]\ttrain-logloss:0.00463\ttest-logloss:0.09478\n",
      "[147]\ttrain-logloss:0.00466\ttest-logloss:0.09478\n",
      "[148]\ttrain-logloss:0.00465\ttest-logloss:0.09478\n",
      "[149]\ttrain-logloss:0.00465\ttest-logloss:0.09481\n",
      "[150]\ttrain-logloss:0.00464\ttest-logloss:0.09481\n",
      "[151]\ttrain-logloss:0.00465\ttest-logloss:0.09480\n",
      "[152]\ttrain-logloss:0.00467\ttest-logloss:0.09480\n",
      "[153]\ttrain-logloss:0.00466\ttest-logloss:0.09480\n",
      "[154]\ttrain-logloss:0.00465\ttest-logloss:0.09480\n",
      "[155]\ttrain-logloss:0.00465\ttest-logloss:0.09480\n",
      "[156]\ttrain-logloss:0.00465\ttest-logloss:0.09480\n",
      "[157]\ttrain-logloss:0.00466\ttest-logloss:0.09480\n",
      "[158]\ttrain-logloss:0.00464\ttest-logloss:0.09468\n",
      "[159]\ttrain-logloss:0.00463\ttest-logloss:0.09471\n",
      "[160]\ttrain-logloss:0.00460\ttest-logloss:0.09419\n",
      "[161]\ttrain-logloss:0.00460\ttest-logloss:0.09419\n",
      "[162]\ttrain-logloss:0.00461\ttest-logloss:0.09419\n",
      "[163]\ttrain-logloss:0.00460\ttest-logloss:0.09419\n",
      "[164]\ttrain-logloss:0.00459\ttest-logloss:0.09419\n",
      "[165]\ttrain-logloss:0.00457\ttest-logloss:0.09419\n",
      "[166]\ttrain-logloss:0.00457\ttest-logloss:0.09419\n",
      "[167]\ttrain-logloss:0.00459\ttest-logloss:0.09419\n",
      "[168]\ttrain-logloss:0.00462\ttest-logloss:0.09418\n",
      "[169]\ttrain-logloss:0.00457\ttest-logloss:0.09419\n"
     ]
    },
    {
     "name": "stdout",
     "output_type": "stream",
     "text": [
      "[170]\ttrain-logloss:0.00459\ttest-logloss:0.09419\n",
      "[171]\ttrain-logloss:0.00463\ttest-logloss:0.09418\n",
      "[172]\ttrain-logloss:0.00460\ttest-logloss:0.09419\n",
      "[173]\ttrain-logloss:0.00461\ttest-logloss:0.09418\n",
      "[174]\ttrain-logloss:0.00463\ttest-logloss:0.09418\n",
      "[175]\ttrain-logloss:0.00459\ttest-logloss:0.09419\n",
      "[176]\ttrain-logloss:0.00462\ttest-logloss:0.09418\n",
      "[177]\ttrain-logloss:0.00460\ttest-logloss:0.09440\n",
      "[178]\ttrain-logloss:0.00455\ttest-logloss:0.09441\n",
      "[179]\ttrain-logloss:0.00459\ttest-logloss:0.09440\n",
      "[180]\ttrain-logloss:0.00456\ttest-logloss:0.09441\n",
      "[181]\ttrain-logloss:0.00455\ttest-logloss:0.09441\n",
      "[182]\ttrain-logloss:0.00452\ttest-logloss:0.09474\n",
      "[183]\ttrain-logloss:0.00453\ttest-logloss:0.09473\n",
      "[184]\ttrain-logloss:0.00458\ttest-logloss:0.09473\n",
      "[185]\ttrain-logloss:0.00459\ttest-logloss:0.09472\n",
      "[186]\ttrain-logloss:0.00459\ttest-logloss:0.09457\n",
      "[187]\ttrain-logloss:0.00461\ttest-logloss:0.09457\n",
      "[188]\ttrain-logloss:0.00460\ttest-logloss:0.09457\n",
      "[189]\ttrain-logloss:0.00457\ttest-logloss:0.09457\n",
      "[190]\ttrain-logloss:0.00453\ttest-logloss:0.09458\n",
      "[191]\ttrain-logloss:0.00454\ttest-logloss:0.09458\n",
      "[192]\ttrain-logloss:0.00453\ttest-logloss:0.09458\n",
      "[193]\ttrain-logloss:0.00451\ttest-logloss:0.09392\n",
      "[194]\ttrain-logloss:0.00449\ttest-logloss:0.09393\n",
      "[195]\ttrain-logloss:0.00452\ttest-logloss:0.09392\n",
      "[196]\ttrain-logloss:0.00449\ttest-logloss:0.09393\n",
      "[197]\ttrain-logloss:0.00444\ttest-logloss:0.09399\n",
      "[198]\ttrain-logloss:0.00445\ttest-logloss:0.09399\n",
      "[199]\ttrain-logloss:0.00448\ttest-logloss:0.09398\n",
      "[200]\ttrain-logloss:0.00448\ttest-logloss:0.09398\n",
      "[201]\ttrain-logloss:0.00448\ttest-logloss:0.09398\n",
      "[202]\ttrain-logloss:0.00449\ttest-logloss:0.09398\n",
      "[203]\ttrain-logloss:0.00449\ttest-logloss:0.09398\n",
      "[204]\ttrain-logloss:0.00448\ttest-logloss:0.09398\n",
      "[205]\ttrain-logloss:0.00448\ttest-logloss:0.09398\n",
      "[206]\ttrain-logloss:0.00445\ttest-logloss:0.09337\n",
      "[207]\ttrain-logloss:0.00444\ttest-logloss:0.09359\n",
      "[208]\ttrain-logloss:0.00443\ttest-logloss:0.09359\n",
      "[209]\ttrain-logloss:0.00438\ttest-logloss:0.09354\n",
      "[210]\ttrain-logloss:0.00436\ttest-logloss:0.09376\n",
      "[211]\ttrain-logloss:0.00438\ttest-logloss:0.09375\n",
      "[212]\ttrain-logloss:0.00442\ttest-logloss:0.09374\n",
      "[213]\ttrain-logloss:0.00440\ttest-logloss:0.09374\n",
      "[214]\ttrain-logloss:0.00443\ttest-logloss:0.09374\n",
      "[215]\ttrain-logloss:0.00441\ttest-logloss:0.09374\n",
      "[216]\ttrain-logloss:0.00439\ttest-logloss:0.09375\n",
      "[217]\ttrain-logloss:0.00438\ttest-logloss:0.09375\n",
      "[218]\ttrain-logloss:0.00437\ttest-logloss:0.09375\n",
      "[219]\ttrain-logloss:0.00440\ttest-logloss:0.09374\n"
     ]
    }
   ],
   "source": [
    "# 220 boosting rounds\n",
    "\n",
    "model = xgb.train(params, dtrain = dtrain, num_boost_round=220, evals=evallist)"
   ]
  },
  {
   "cell_type": "code",
   "execution_count": 40,
   "id": "af3c8883",
   "metadata": {},
   "outputs": [],
   "source": [
    "# Save the model for evaluation\n",
    "\n",
    "save_obj(obj=model, \n",
    "         name='HR_Attrition_Model_202207', \n",
    "         file_path=path_to_data)"
   ]
  }
 ],
 "metadata": {
  "kernelspec": {
   "display_name": "Python 3 (ipykernel)",
   "language": "python",
   "name": "python3"
  },
  "language_info": {
   "codemirror_mode": {
    "name": "ipython",
    "version": 3
   },
   "file_extension": ".py",
   "mimetype": "text/x-python",
   "name": "python",
   "nbconvert_exporter": "python",
   "pygments_lexer": "ipython3",
   "version": "3.9.7"
  }
 },
 "nbformat": 4,
 "nbformat_minor": 5
}
